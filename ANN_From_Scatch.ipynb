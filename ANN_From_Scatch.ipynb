{
 "cells": [
  {
   "cell_type": "code",
   "execution_count": 1,
   "metadata": {
    "id": "c8rVD7jcAOcR"
   },
   "outputs": [],
   "source": [
    "import numpy as np\n",
    "import random\n",
    "import matplotlib.pyplot as plt\n",
    "np.random.seed(42)"
   ]
  },
  {
   "cell_type": "code",
   "execution_count": 2,
   "metadata": {
    "id": "ecVd2P8PBjuh"
   },
   "outputs": [],
   "source": [
    "#Training Data\n",
    "x1 = np.array([1,1,0,0])\n",
    "x2 = np.array([1,0,0,1])\n",
    "\n",
    "y = np.array([1,1,0,0]).reshape(-1,1) #Column Matrix\n",
    "\n",
    "sample = len(x1)"
   ]
  },
  {
   "cell_type": "code",
   "execution_count": 3,
   "metadata": {
    "colab": {
     "base_uri": "https://localhost:8080/"
    },
    "id": "ry5YuQhQCLky",
    "outputId": "37590f4b-91c0-45c8-f9c5-4bb48a2a4541"
   },
   "outputs": [
    {
     "name": "stdout",
     "output_type": "stream",
     "text": [
      "Input Shape :  (4, 2)\n",
      "Output Shape :  (4, 1)\n"
     ]
    }
   ],
   "source": [
    "input = np.array([x1,x2]).T\n",
    "print(\"Input Shape : \",input.shape)\n",
    "print(\"Output Shape : \",y.shape)"
   ]
  },
  {
   "cell_type": "code",
   "execution_count": 4,
   "metadata": {
    "id": "Y9XeY-yJCOI-"
   },
   "outputs": [],
   "source": [
    "def sigmoid(x):\n",
    "  return 1 / (1 + np.exp(-x))\n",
    "\n",
    "def sigmoid_derivative(x):\n",
    "  return x * (1-x);"
   ]
  },
  {
   "cell_type": "code",
   "execution_count": 5,
   "metadata": {
    "id": "luRDmTxJCYTu"
   },
   "outputs": [],
   "source": [
    "input_neuron = 2\n",
    "hidden_neuron = 2\n",
    "output_neuron = 1"
   ]
  },
  {
   "cell_type": "code",
   "execution_count": 6,
   "metadata": {
    "colab": {
     "base_uri": "https://localhost:8080/"
    },
    "id": "-1gVaKFGmxpu",
    "outputId": "05b0b1fe-11eb-471d-b874-bccd94cee741"
   },
   "outputs": [
    {
     "name": "stdout",
     "output_type": "stream",
     "text": [
      "W1 Shape :  (2, 2)\n",
      "W2 Shape :  (2, 1)\n"
     ]
    }
   ],
   "source": [
    "w1 = np.random.rand(input_neuron,hidden_neuron)\n",
    "w2 = np.random.rand(hidden_neuron,output_neuron)\n",
    "print(\"W1 Shape : \",w1.shape)\n",
    "print(\"W2 Shape : \",w2.shape)"
   ]
  },
  {
   "cell_type": "code",
   "execution_count": 7,
   "metadata": {
    "id": "-hF0JDpAm2Hk"
   },
   "outputs": [],
   "source": [
    "#Forward Propagation\n",
    "def forward_propagation(x,w1,w2):\n",
    "  z1 = np.dot(x,w1);\n",
    "  a1 = sigmoid(z1)\n",
    "  z2 = np.dot(a1,w2)\n",
    "  a2 = sigmoid(z2)\n",
    "  return z1,a1,z2,a2\n",
    "\n",
    "#Backward Propagation\n",
    "def backward_propagation(w1,w2,z1,z2,a1,a2,y):\n",
    "  dz2 = a2 - y\n",
    "  dw2 = np.dot(a1.T,dz2)/sample\n",
    "  dz1 = np.dot(dw2,dz2.T) * sigmoid_derivative(a1.T)\n",
    "  dw1 = np.dot(dz1,input)/sample\n",
    "  return dz2,dw2,dz1,dw1\n"
   ]
  },
  {
   "cell_type": "code",
   "execution_count": 8,
   "metadata": {
    "colab": {
     "base_uri": "https://localhost:8080/",
     "height": 320
    },
    "id": "UGAgM4MJIrAq",
    "outputId": "8b09c7c5-0437-43bc-f8a2-86ee4397aa78",
    "scrolled": true
   },
   "outputs": [
    {
     "data": {
      "text/plain": [
       "[<matplotlib.lines.Line2D at 0x1ccf869ea30>]"
      ]
     },
     "execution_count": 8,
     "metadata": {},
     "output_type": "execute_result"
    },
    {
     "data": {
      "image/png": "[encoded data removed]",
      "text/plain": [
       "<Figure size 432x288 with 1 Axes>"
      ]
     },
     "metadata": {
      "needs_background": "light"
     },
     "output_type": "display_data"
    }
   ],
   "source": [
    "l = []\n",
    "epochs = 2000\n",
    "\n",
    "learning_rate = 0.1\n",
    "\n",
    "for i in range(epochs):\n",
    "  z1,a1,z2,a2 = forward_propagation(input,w1,w2)\n",
    "  #Loss Function => cross entropy\n",
    "  loss = -(1/sample)*np.sum(y*np.log(a2) + (1-y)*np.log(1-a2))\n",
    "  l.append(loss)\n",
    "  _,dw2,_,dw1 = backward_propagation(w1,w2,z1,z2,a1,a2,y)\n",
    "  w2 = w2 - 0.1*dw2\n",
    "  w1 = w1 - 0.1*dw1\n",
    "\n",
    "plt.plot(l)"
   ]
  },
  {
   "cell_type": "code",
   "execution_count": 9,
   "metadata": {
    "colab": {
     "base_uri": "https://localhost:8080/"
    },
    "id": "pccMwgjHgmVy",
    "outputId": "888f491f-7e54-46bf-f869-a58e6f79f8e9"
   },
   "outputs": [
    {
     "name": "stdout",
     "output_type": "stream",
     "text": [
      "[[0.57791835]\n",
      " [0.587418  ]\n",
      " [0.52514498]\n",
      " [0.53030175]]\n"
     ]
    }
   ],
   "source": [
    "print(a2)"
   ]
  },
  {
   "cell_type": "code",
   "execution_count": null,
   "metadata": {
    "id": "CPHacm4xkSiz"
   },
   "outputs": [],
   "source": []
  },
  {
   "cell_type": "code",
   "execution_count": null,
   "metadata": {},
   "outputs": [],
   "source": []
  }
 ],
 "metadata": {
  "colab": {
   "collapsed_sections": [],
   "provenance": []
  },
  "kernelspec": {
   "display_name": "Python 3 (ipykernel)",
   "language": "python",
   "name": "python3"
  },
  "language_info": {
   "codemirror_mode": {
    "name": "ipython",
    "version": 3
   },
   "file_extension": ".py",
   "mimetype": "text/x-python",
   "name": "python",
   "nbconvert_exporter": "python",
   "pygments_lexer": "ipython3",
   "version": "3.9.12"
  }
 },
 "nbformat": 4,
 "nbformat_minor": 1
}
